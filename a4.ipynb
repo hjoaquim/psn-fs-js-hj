{
 "cells": [
  {
   "cell_type": "code",
   "execution_count": 1,
   "metadata": {},
   "outputs": [],
   "source": [
    "# I'll leave this 1st cell just for importings.\n",
    "import pandas as pd"
   ]
  },
  {
   "cell_type": "code",
   "execution_count": 2,
   "metadata": {},
   "outputs": [],
   "source": [
    "file_path = r'C:\\Users\\utilizador\\Documents\\a_hjoaquim\\semestre2_5oano\\PSn\\Bayesian-training\\51006_data.csv'\n",
    "df = pd.read_csv(file_path)"
   ]
  },
  {
   "cell_type": "code",
   "execution_count": 3,
   "metadata": {},
   "outputs": [
    {
     "data": {
      "text/html": [
       "<div>\n",
       "<style scoped>\n",
       "    .dataframe tbody tr th:only-of-type {\n",
       "        vertical-align: middle;\n",
       "    }\n",
       "\n",
       "    .dataframe tbody tr th {\n",
       "        vertical-align: top;\n",
       "    }\n",
       "\n",
       "    .dataframe thead th {\n",
       "        text-align: right;\n",
       "    }\n",
       "</style>\n",
       "<table border=\"1\" class=\"dataframe\">\n",
       "  <thead>\n",
       "    <tr style=\"text-align: right;\">\n",
       "      <th></th>\n",
       "      <th>Doenca</th>\n",
       "      <th>Fumo</th>\n",
       "      <th>Falta de força</th>\n",
       "      <th>Dificuldade em pegar</th>\n",
       "    </tr>\n",
       "  </thead>\n",
       "  <tbody>\n",
       "    <tr>\n",
       "      <th>0</th>\n",
       "      <td>Pistons</td>\n",
       "      <td>1</td>\n",
       "      <td>1</td>\n",
       "      <td>0</td>\n",
       "    </tr>\n",
       "    <tr>\n",
       "      <th>1</th>\n",
       "      <td>Pistons</td>\n",
       "      <td>0</td>\n",
       "      <td>1</td>\n",
       "      <td>0</td>\n",
       "    </tr>\n",
       "    <tr>\n",
       "      <th>2</th>\n",
       "      <td>Injetores</td>\n",
       "      <td>1</td>\n",
       "      <td>1</td>\n",
       "      <td>0</td>\n",
       "    </tr>\n",
       "    <tr>\n",
       "      <th>3</th>\n",
       "      <td>Injetores</td>\n",
       "      <td>1</td>\n",
       "      <td>0</td>\n",
       "      <td>1</td>\n",
       "    </tr>\n",
       "    <tr>\n",
       "      <th>4</th>\n",
       "      <td>Pistons</td>\n",
       "      <td>0</td>\n",
       "      <td>1</td>\n",
       "      <td>1</td>\n",
       "    </tr>\n",
       "    <tr>\n",
       "      <th>...</th>\n",
       "      <td>...</td>\n",
       "      <td>...</td>\n",
       "      <td>...</td>\n",
       "      <td>...</td>\n",
       "    </tr>\n",
       "    <tr>\n",
       "      <th>307</th>\n",
       "      <td>Pistons</td>\n",
       "      <td>1</td>\n",
       "      <td>1</td>\n",
       "      <td>0</td>\n",
       "    </tr>\n",
       "    <tr>\n",
       "      <th>308</th>\n",
       "      <td>Eletrico</td>\n",
       "      <td>1</td>\n",
       "      <td>1</td>\n",
       "      <td>1</td>\n",
       "    </tr>\n",
       "    <tr>\n",
       "      <th>309</th>\n",
       "      <td>Eletrico</td>\n",
       "      <td>0</td>\n",
       "      <td>0</td>\n",
       "      <td>1</td>\n",
       "    </tr>\n",
       "    <tr>\n",
       "      <th>310</th>\n",
       "      <td>Injetores</td>\n",
       "      <td>1</td>\n",
       "      <td>0</td>\n",
       "      <td>1</td>\n",
       "    </tr>\n",
       "    <tr>\n",
       "      <th>311</th>\n",
       "      <td>Injetores</td>\n",
       "      <td>1</td>\n",
       "      <td>0</td>\n",
       "      <td>0</td>\n",
       "    </tr>\n",
       "  </tbody>\n",
       "</table>\n",
       "<p>312 rows × 4 columns</p>\n",
       "</div>"
      ],
      "text/plain": [
       "        Doenca  Fumo  Falta de força  Dificuldade em pegar\n",
       "0      Pistons     1               1                     0\n",
       "1      Pistons     0               1                     0\n",
       "2    Injetores     1               1                     0\n",
       "3    Injetores     1               0                     1\n",
       "4      Pistons     0               1                     1\n",
       "..         ...   ...             ...                   ...\n",
       "307    Pistons     1               1                     0\n",
       "308   Eletrico     1               1                     1\n",
       "309   Eletrico     0               0                     1\n",
       "310  Injetores     1               0                     1\n",
       "311  Injetores     1               0                     0\n",
       "\n",
       "[312 rows x 4 columns]"
      ]
     },
     "execution_count": 3,
     "metadata": {},
     "output_type": "execute_result"
    }
   ],
   "source": [
    "df"
   ]
  },
  {
   "cell_type": "code",
   "execution_count": 4,
   "metadata": {},
   "outputs": [],
   "source": [
    "# Let's change our 'Doenca', wich is a String to an integer, with the following correspondense:\n",
    "# Injetores - 1\n",
    "# Pistons - 2\n",
    "# Problema Electico - 3\n",
    "# BTW, the field 'Doenca' is our Class, meaning: the stuff we want to classify.\n",
    "# Since we're doing a Baysian Analysis we'll not predict one class, instead we will tell the most lekely one."
   ]
  },
  {
   "cell_type": "code",
   "execution_count": 5,
   "metadata": {},
   "outputs": [
    {
     "name": "stdout",
     "output_type": "stream",
     "text": [
      "Presenting our conters: \n",
      "\n",
      "Instances labeled 'Injetores': 71\n",
      "Instances labeled 'Pistons': 127\n",
      "Instances labeled 'Eletrico': 114\n"
     ]
    }
   ],
   "source": [
    "# Keeping track, just to control if we don't lose any data.\n",
    "pistonsCounter = 0; eletricoCounter = 0; injetoresCounter = 0\n",
    "for d in df['Doenca'] :\n",
    "    if d == 'Injetores': \n",
    "        injetoresCounter += 1\n",
    "    elif(d == 'Pistons'): \n",
    "        pistonsCounter += 1\n",
    "    elif(d == 'Eletrico'): \n",
    "        eletricoCounter += 1\n",
    "    \n",
    "print(\"Presenting our conters: \\n\")\n",
    "print(\"Instances labeled 'Injetores': {}\".format(injetoresCounter))\n",
    "print(\"Instances labeled 'Pistons': {}\".format(pistonsCounter))\n",
    "print(\"Instances labeled 'Eletrico': {}\".format(eletricoCounter))"
   ]
  },
  {
   "cell_type": "code",
   "execution_count": 6,
   "metadata": {},
   "outputs": [],
   "source": [
    "# Getting rid of un-wanted spaces in the strings.\n",
    "df['Doenca'] = df['Doenca'].apply(lambda x: x.strip())"
   ]
  },
  {
   "cell_type": "code",
   "execution_count": 7,
   "metadata": {},
   "outputs": [],
   "source": [
    "df = df.replace({'Injetores': 1}, regex=True)\n",
    "df = df.replace({'Pistons': 2}, regex=True)\n",
    "df = df.replace({'Eletrico': 3}, regex=True)"
   ]
  },
  {
   "cell_type": "code",
   "execution_count": 8,
   "metadata": {},
   "outputs": [
    {
     "name": "stdout",
     "output_type": "stream",
     "text": [
      "Presenting our control conters: \n",
      "\n",
      "Instances labeled 'Injetores': 71\n",
      "Instances labeled 'Pistons': 127\n",
      "Instances labeled 'Eletrico': 114\n"
     ]
    }
   ],
   "source": [
    "# Let's see if we haven't messed with our dataframe and the counters still make sense.\n",
    "pistonsCounter = 0; eletricoCounter = 0; injetoresCounter = 0\n",
    "for d in df['Doenca'] :\n",
    "    if d == 1: \n",
    "        injetoresCounter += 1\n",
    "    elif(d == 2): \n",
    "        pistonsCounter += 1\n",
    "    elif(d == 3): \n",
    "        eletricoCounter += 1\n",
    "    \n",
    "print(\"Presenting our control conters: \\n\")\n",
    "print(\"Instances labeled 'Injetores': {}\".format(injetoresCounter))\n",
    "print(\"Instances labeled 'Pistons': {}\".format(pistonsCounter))\n",
    "print(\"Instances labeled 'Eletrico': {}\".format(eletricoCounter))"
   ]
  },
  {
   "cell_type": "code",
   "execution_count": 9,
   "metadata": {},
   "outputs": [
    {
     "data": {
      "text/html": [
       "<div>\n",
       "<style scoped>\n",
       "    .dataframe tbody tr th:only-of-type {\n",
       "        vertical-align: middle;\n",
       "    }\n",
       "\n",
       "    .dataframe tbody tr th {\n",
       "        vertical-align: top;\n",
       "    }\n",
       "\n",
       "    .dataframe thead th {\n",
       "        text-align: right;\n",
       "    }\n",
       "</style>\n",
       "<table border=\"1\" class=\"dataframe\">\n",
       "  <thead>\n",
       "    <tr style=\"text-align: right;\">\n",
       "      <th></th>\n",
       "      <th>Doenca</th>\n",
       "      <th>Fumo</th>\n",
       "      <th>Falta de força</th>\n",
       "      <th>Dificuldade em pegar</th>\n",
       "    </tr>\n",
       "  </thead>\n",
       "  <tbody>\n",
       "    <tr>\n",
       "      <th>0</th>\n",
       "      <td>2</td>\n",
       "      <td>1</td>\n",
       "      <td>1</td>\n",
       "      <td>0</td>\n",
       "    </tr>\n",
       "    <tr>\n",
       "      <th>1</th>\n",
       "      <td>2</td>\n",
       "      <td>0</td>\n",
       "      <td>1</td>\n",
       "      <td>0</td>\n",
       "    </tr>\n",
       "    <tr>\n",
       "      <th>2</th>\n",
       "      <td>1</td>\n",
       "      <td>1</td>\n",
       "      <td>1</td>\n",
       "      <td>0</td>\n",
       "    </tr>\n",
       "    <tr>\n",
       "      <th>3</th>\n",
       "      <td>1</td>\n",
       "      <td>1</td>\n",
       "      <td>0</td>\n",
       "      <td>1</td>\n",
       "    </tr>\n",
       "    <tr>\n",
       "      <th>4</th>\n",
       "      <td>2</td>\n",
       "      <td>0</td>\n",
       "      <td>1</td>\n",
       "      <td>1</td>\n",
       "    </tr>\n",
       "    <tr>\n",
       "      <th>...</th>\n",
       "      <td>...</td>\n",
       "      <td>...</td>\n",
       "      <td>...</td>\n",
       "      <td>...</td>\n",
       "    </tr>\n",
       "    <tr>\n",
       "      <th>307</th>\n",
       "      <td>2</td>\n",
       "      <td>1</td>\n",
       "      <td>1</td>\n",
       "      <td>0</td>\n",
       "    </tr>\n",
       "    <tr>\n",
       "      <th>308</th>\n",
       "      <td>3</td>\n",
       "      <td>1</td>\n",
       "      <td>1</td>\n",
       "      <td>1</td>\n",
       "    </tr>\n",
       "    <tr>\n",
       "      <th>309</th>\n",
       "      <td>3</td>\n",
       "      <td>0</td>\n",
       "      <td>0</td>\n",
       "      <td>1</td>\n",
       "    </tr>\n",
       "    <tr>\n",
       "      <th>310</th>\n",
       "      <td>1</td>\n",
       "      <td>1</td>\n",
       "      <td>0</td>\n",
       "      <td>1</td>\n",
       "    </tr>\n",
       "    <tr>\n",
       "      <th>311</th>\n",
       "      <td>1</td>\n",
       "      <td>1</td>\n",
       "      <td>0</td>\n",
       "      <td>0</td>\n",
       "    </tr>\n",
       "  </tbody>\n",
       "</table>\n",
       "<p>312 rows × 4 columns</p>\n",
       "</div>"
      ],
      "text/plain": [
       "     Doenca  Fumo  Falta de força  Dificuldade em pegar\n",
       "0         2     1               1                     0\n",
       "1         2     0               1                     0\n",
       "2         1     1               1                     0\n",
       "3         1     1               0                     1\n",
       "4         2     0               1                     1\n",
       "..      ...   ...             ...                   ...\n",
       "307       2     1               1                     0\n",
       "308       3     1               1                     1\n",
       "309       3     0               0                     1\n",
       "310       1     1               0                     1\n",
       "311       1     1               0                     0\n",
       "\n",
       "[312 rows x 4 columns]"
      ]
     },
     "execution_count": 9,
     "metadata": {},
     "output_type": "execute_result"
    }
   ],
   "source": [
    "df"
   ]
  },
  {
   "cell_type": "code",
   "execution_count": 10,
   "metadata": {
    "scrolled": true
   },
   "outputs": [
    {
     "data": {
      "text/html": [
       "<div>\n",
       "<style scoped>\n",
       "    .dataframe tbody tr th:only-of-type {\n",
       "        vertical-align: middle;\n",
       "    }\n",
       "\n",
       "    .dataframe tbody tr th {\n",
       "        vertical-align: top;\n",
       "    }\n",
       "\n",
       "    .dataframe thead th {\n",
       "        text-align: right;\n",
       "    }\n",
       "</style>\n",
       "<table border=\"1\" class=\"dataframe\">\n",
       "  <thead>\n",
       "    <tr style=\"text-align: right;\">\n",
       "      <th></th>\n",
       "      <th>Avaria</th>\n",
       "      <th>P(d)</th>\n",
       "      <th>P(Fumo|Problema)</th>\n",
       "      <th>P(Falta de força|Problema)</th>\n",
       "      <th>P(Dificuldade em pegar|Problema)</th>\n",
       "    </tr>\n",
       "  </thead>\n",
       "  <tbody>\n",
       "  </tbody>\n",
       "</table>\n",
       "</div>"
      ],
      "text/plain": [
       "Empty DataFrame\n",
       "Columns: [Avaria, P(d), P(Fumo|Problema), P(Falta de força|Problema), P(Dificuldade em pegar|Problema)]\n",
       "Index: []"
      ]
     },
     "execution_count": 10,
     "metadata": {},
     "output_type": "execute_result"
    }
   ],
   "source": [
    "# Let's create our new table aka dataframe.\n",
    "# This will be our probabilities and contional probabilities table!\n",
    "# Based ont that we'll be able to build our Bayesian  Tree\n",
    "probDf = pd.DataFrame(columns = ['Avaria', 'P(d)', 'P(Fumo|Problema)', 'P(Falta de força|Problema)', 'P(Dificuldade em pegar|Problema)'])\n",
    "probDf"
   ]
  },
  {
   "cell_type": "code",
   "execution_count": 11,
   "metadata": {},
   "outputs": [
    {
     "name": "stdout",
     "output_type": "stream",
     "text": [
      "0.22756410256410256\n",
      "0.40705128205128205\n",
      "0.36538461538461536\n",
      "1.0\n"
     ]
    }
   ],
   "source": [
    "nRows = df['Doenca'].count()                           # total of rows in the dataset\n",
    "nInjetores = df['Doenca'].tolist().count(1)            # total of lines labeled 'Injetores'\n",
    "nPistons = df['Doenca'].tolist().count(2)              # total of lines labeled 'Pistons'\n",
    "nEletrico =  df['Doenca'].tolist().count(3)            # total of lines labeled 'Eletrico'\n",
    "\n",
    "pdInjetores = nInjetores / nRows\n",
    "pdPistons = nPistons / nRows\n",
    "pdEletrico = nEletrico / nRows\n",
    "\n",
    "\n",
    "# If the sum is equal to 1, we're good to go!\n",
    "print(pdInjetores); print(pdPistons); print(pdEletrico)\n",
    "print(pdInjetores + pdPistons + pdEletrico)\n",
    "\n",
    "# Let's put the probability of each problem in a array\n",
    "#pd = []; pd.append(pdInjetores); pd.append(pdPistons); pd.append(pdEletrico)\n",
    "pd = []; pd.extend([pdInjetores, pdPistons, pdEletrico])"
   ]
  },
  {
   "cell_type": "code",
   "execution_count": 12,
   "metadata": {},
   "outputs": [],
   "source": [
    "# Getting the universe of each problem.\n",
    "dfInjetores = df.loc[df['Doenca'] == 1]\n",
    "dfPistons = df.loc[df['Doenca'] == 2]\n",
    "dfEletrico = df.loc[df['Doenca'] == 3]"
   ]
  },
  {
   "cell_type": "code",
   "execution_count": 13,
   "metadata": {},
   "outputs": [],
   "source": [
    "# Calculating each conditional probability \n",
    "# Format: P(symptom | problem)\n",
    "p_Fumo_Injetores = dfInjetores['Fumo'].sum() / nInjetores\n",
    "p_Fumo_Pistons = dfPistons['Fumo'].sum() / nPistons\n",
    "p_Fumo_Eletrico = dfEletrico['Fumo'].sum() / nEletrico\n",
    "p_Fumo_Problema = []; p_Fumo_Problema.extend([p_Fumo_Injetores, p_Fumo_Pistons, p_Fumo_Eletrico]) \n",
    "\n",
    "p_FaltaForca_Injetores = dfInjetores['Falta de força'].sum() / nInjetores\n",
    "p_FaltaForca_Pistons = dfPistons['Falta de força'].sum() / nPistons\n",
    "p_FaltaForca_Eletrico = dfEletrico['Falta de força'].sum() / nEletrico\n",
    "p_FaltaForca_Problema = []; p_FaltaForca_Problema.extend([p_FaltaForca_Injetores, p_FaltaForca_Pistons, p_FaltaForca_Eletrico])\n",
    "\n",
    "p_DificuldadePegar_Injetores = dfInjetores['Dificuldade em pegar'].sum() / nInjetores\n",
    "p_DificuldadePegar_Pistons = dfPistons['Dificuldade em pegar'].sum() / nPistons\n",
    "p_DificuldadePegar_Eletrico = dfEletrico['Dificuldade em pegar'].sum() / nEletrico\n",
    "p_DificuldadePegar_Problema = []; p_DificuldadePegar_Problema.extend([p_DificuldadePegar_Injetores, p_DificuldadePegar_Pistons, p_DificuldadePegar_Eletrico])"
   ]
  },
  {
   "cell_type": "code",
   "execution_count": 14,
   "metadata": {},
   "outputs": [
    {
     "data": {
      "text/html": [
       "<div>\n",
       "<style scoped>\n",
       "    .dataframe tbody tr th:only-of-type {\n",
       "        vertical-align: middle;\n",
       "    }\n",
       "\n",
       "    .dataframe tbody tr th {\n",
       "        vertical-align: top;\n",
       "    }\n",
       "\n",
       "    .dataframe thead th {\n",
       "        text-align: right;\n",
       "    }\n",
       "</style>\n",
       "<table border=\"1\" class=\"dataframe\">\n",
       "  <thead>\n",
       "    <tr style=\"text-align: right;\">\n",
       "      <th></th>\n",
       "      <th>Avaria</th>\n",
       "      <th>P(d)</th>\n",
       "      <th>P(Fumo|Problema)</th>\n",
       "      <th>P(Falta de força|Problema)</th>\n",
       "      <th>P(Dificuldade em pegar|Problema)</th>\n",
       "      <th>P(/Fumo|Problema)</th>\n",
       "      <th>P(/Falta de força|Problema)</th>\n",
       "      <th>P(/Dificuldade em pegar|Problema)</th>\n",
       "    </tr>\n",
       "  </thead>\n",
       "  <tbody>\n",
       "    <tr>\n",
       "      <th>0</th>\n",
       "      <td>Injetores</td>\n",
       "      <td>0.227564</td>\n",
       "      <td>0.887324</td>\n",
       "      <td>0.225352</td>\n",
       "      <td>0.366197</td>\n",
       "      <td>0.112676</td>\n",
       "      <td>0.774648</td>\n",
       "      <td>0.633803</td>\n",
       "    </tr>\n",
       "    <tr>\n",
       "      <th>1</th>\n",
       "      <td>Pistons</td>\n",
       "      <td>0.407051</td>\n",
       "      <td>0.669291</td>\n",
       "      <td>0.913386</td>\n",
       "      <td>0.181102</td>\n",
       "      <td>0.330709</td>\n",
       "      <td>0.086614</td>\n",
       "      <td>0.818898</td>\n",
       "    </tr>\n",
       "    <tr>\n",
       "      <th>2</th>\n",
       "      <td>Eletrico</td>\n",
       "      <td>0.365385</td>\n",
       "      <td>0.228070</td>\n",
       "      <td>0.096491</td>\n",
       "      <td>0.815789</td>\n",
       "      <td>0.771930</td>\n",
       "      <td>0.903509</td>\n",
       "      <td>0.184211</td>\n",
       "    </tr>\n",
       "  </tbody>\n",
       "</table>\n",
       "</div>"
      ],
      "text/plain": [
       "      Avaria      P(d)  P(Fumo|Problema)  P(Falta de força|Problema)  \\\n",
       "0  Injetores  0.227564          0.887324                    0.225352   \n",
       "1    Pistons  0.407051          0.669291                    0.913386   \n",
       "2   Eletrico  0.365385          0.228070                    0.096491   \n",
       "\n",
       "   P(Dificuldade em pegar|Problema)  P(/Fumo|Problema)  \\\n",
       "0                          0.366197           0.112676   \n",
       "1                          0.181102           0.330709   \n",
       "2                          0.815789           0.771930   \n",
       "\n",
       "   P(/Falta de força|Problema)  P(/Dificuldade em pegar|Problema)  \n",
       "0                     0.774648                           0.633803  \n",
       "1                     0.086614                           0.818898  \n",
       "2                     0.903509                           0.184211  "
      ]
     },
     "execution_count": 14,
     "metadata": {},
     "output_type": "execute_result"
    }
   ],
   "source": [
    "# After all those calculations and stuff, let's seed how our probabilities table will look like!\n",
    "probDf['Avaria'] = ['Injetores', 'Pistons', 'Eletrico']\n",
    "probDf['P(d)'] = pd\n",
    "probDf['P(Fumo|Problema)'] = p_Fumo_Problema; probDf['P(/Fumo|Problema)'] = (1 - probDf['P(Fumo|Problema)'])\n",
    "probDf['P(Falta de força|Problema)'] = p_FaltaForca_Problema; probDf['P(/Falta de força|Problema)'] = (1 - probDf['P(Falta de força|Problema)'])\n",
    "probDf['P(Dificuldade em pegar|Problema)'] = p_DificuldadePegar_Problema; probDf['P(/Dificuldade em pegar|Problema)'] = (1 - probDf['P(Dificuldade em pegar|Problema)'])\n",
    "probDf"
   ]
  },
  {
   "cell_type": "code",
   "execution_count": 15,
   "metadata": {},
   "outputs": [],
   "source": [
    "list1 = probDf['P(d)'].tolist()\n",
    "list2 = probDf['P(Fumo|Problema)'].tolist()"
   ]
  },
  {
   "cell_type": "code",
   "execution_count": 16,
   "metadata": {},
   "outputs": [
    {
     "data": {
      "text/plain": [
       "[0.3620689655172414, 0.4885057471264368, 0.14942528735632182]"
      ]
     },
     "execution_count": 16,
     "metadata": {},
     "output_type": "execute_result"
    }
   ],
   "source": [
    "#newList = [ a * b for a, b in zip(list1, list2)]\n",
    "denominator = sum([ a * b for a, b in zip(list1, list2)])\n",
    "newList = [ (a * b) / denominator for a, b in zip(list1, list2)]\n",
    "newList"
   ]
  },
  {
   "cell_type": "code",
   "execution_count": 25,
   "metadata": {},
   "outputs": [],
   "source": [
    "# Inputs: conditionalProbList, symptomProbList\n",
    "# Outputs: returns a list with the probabilities of the symptom given the problem\n",
    "def calcConditional(conditionalProbList, symptomProbList):\n",
    "    denominator = sum([ a * b for a, b in zip(conditionalProbList, symptomProbList)])\n",
    "    return [ (a * b) / denominator for a, b in zip(conditionalProbList, symptomProbList)]"
   ]
  },
  {
   "cell_type": "code",
   "execution_count": 26,
   "metadata": {},
   "outputs": [
    {
     "name": "stdout",
     "output_type": "stream",
     "text": [
      "*** Level 1 ***\n",
      "[0.3620689655172414, 0.4885057471264368, 0.14942528735632182]\n",
      "[0.05797101449275362, 0.30434782608695654, 0.6376811594202898]\n",
      "\n",
      "\n",
      "*** Level 2 ***\n",
      "[0.15048355670453575, 0.8229246243170956, 0.026591818978368688]\n",
      "[0.6126677704218254, 0.09242469677529595, 0.2949075328028785]\n",
      "[0.0370521138121524, 0.7884332426789654, 0.17451464350888224]\n",
      "[0.06936336428126896, 0.04071684100132756, 0.8899197947174035]\n",
      "\n",
      "\n",
      "*** Level 3 ***\n",
      "[0.24401444657826799, 0.6599266476151932, 0.09605890580653884]\n",
      "[0.1231994813106943, 0.8704730769340028, 0.0063274417553029864]\n",
      "[0.749168589033506, 0.14602190604866538, 0.1048095049178286]\n",
      "[0.749168589033506, 0.14602190604866538, 0.1048095049178286]\n",
      "[0.04542131943822837, 0.4779921886002856, 0.4765864919614861]\n",
      "[0.033487087766672266, 0.9206716524903523, 0.04584125974297548]\n",
      "[0.033476473236278545, 0.009718354596010852, 0.9568051721677105]\n",
      "[0.18223769310258256, 0.13821576736667412, 0.6795465395307434]\n"
     ]
    }
   ],
   "source": [
    "# Tree's level 1\n",
    "lvl1_FumoYes = calcConditional(probDf['P(d)'].tolist(), probDf['P(Fumo|Problema)'].tolist())\n",
    "lvl1_FumoNo = calcConditional(probDf['P(d)'].tolist(), probDf['P(/Fumo|Problema)'].tolist())\n",
    "\n",
    "# Tree's level 2\n",
    "faltaForcaProblemaList = probDf['P(Falta de força|Problema)'].tolist()\n",
    "notFaltaForcaProblemaList = probDf['P(/Falta de força|Problema)'].tolist()\n",
    "\n",
    "lvl2_FumoYes_FaltaForcaYes = calcConditional(lvl1_FumoYes, faltaForcaProblemaList)\n",
    "lvl2_FumoYes_FaltaForcaNo = calcConditional(lvl1_FumoYes, notFaltaForcaProblemaList)\n",
    "\n",
    "lvl2_FumoNo_FaltaForcaYes = calcConditional(lvl1_FumoNo, faltaForcaProblemaList)\n",
    "lvl2_FumoNo_FaltaForcaNo = calcConditional(lvl1_FumoNo, notFaltaForcaProblemaList)\n",
    "\n",
    "# Tree's level 3\n",
    "dificuldadeProblemaList = probDf['P(Dificuldade em pegar|Problema)'].tolist()\n",
    "notDificuldadeProblemaList = probDf['P(/Dificuldade em pegar|Problema)'].tolist()\n",
    "\n",
    "lvl3_FumoYes_FaltaForcaYes_DificuldadeYes = calcConditional(lvl2_FumoYes_FaltaForcaYes, dificuldadeProblemaList)\n",
    "lvl3_FumoYes_FaltaForcaYes_DificuldadeNo = calcConditional(lvl2_FumoYes_FaltaForcaYes, notDificuldadeProblemaList)\n",
    "\n",
    "lvl3_FumoYes_FaltaForcaNo_DificuldadeYes = calcConditional(lvl2_FumoYes_FaltaForcaNo, dificuldadeProblemaList)\n",
    "lvl3_FumoYes_FaltaForcaNo_DificuldadeYes = calcConditional(lvl2_FumoYes_FaltaForcaNo, notDificuldadeProblemaList)\n",
    "\n",
    "lvl3_FumoNo_FaltaForcaYes_DificuldadeYes = calcConditional(lvl2_FumoNo_FaltaForcaYes, dificuldadeProblemaList)\n",
    "lvl3_FumoNo_FaltaForcaYes_DificuldadeNo = calcConditional(lvl2_FumoNo_FaltaForcaYes, notDificuldadeProblemaList)\n",
    "\n",
    "lvl3_FumoNo_FaltaForcaNo_DificuldadeYes = calcConditional(lvl2_FumoNo_FaltaForcaNo, dificuldadeProblemaList)\n",
    "lvl3_FumoNo_FaltaForcaNo_DificuldadeNo = calcConditional(lvl2_FumoNo_FaltaForcaNo, notDificuldadeProblemaList)\n",
    "\n",
    "\n",
    "print('*** Level 1 ***'); print(lvl1_FumoYes); print(lvl1_FumoNo)\n",
    "print('\\n\\n*** Level 2 ***'); print(lvl2_FumoYes_FaltaForcaYes); print(lvl2_FumoYes_FaltaForcaNo); print(lvl2_FumoNo_FaltaForcaYes); print(lvl2_FumoNo_FaltaForcaNo)\n",
    "print('\\n\\n*** Level 3 ***');print(lvl3_FumoYes_FaltaForcaYes_DificuldadeYes);print(lvl3_FumoYes_FaltaForcaYes_DificuldadeNo);print(lvl3_FumoYes_FaltaForcaNo_DificuldadeYes);print(lvl3_FumoYes_FaltaForcaNo_DificuldadeYes);print(lvl3_FumoNo_FaltaForcaYes_DificuldadeYes);print(lvl3_FumoNo_FaltaForcaYes_DificuldadeNo);print(lvl3_FumoNo_FaltaForcaNo_DificuldadeYes);print(lvl3_FumoNo_FaltaForcaNo_DificuldadeNo)"
   ]
  },
  {
   "attachments": {
    "image.png": {
     "image/png": "[encoded data removed]"
    }
   },
   "cell_type": "markdown",
   "metadata": {},
   "source": [
    "![image.png](attachment:image.png)"
   ]
  },
  {
   "cell_type": "code",
   "execution_count": null,
   "metadata": {},
   "outputs": [],
   "source": []
  }
 ],
 "metadata": {
  "kernelspec": {
   "display_name": "Python 3",
   "language": "python",
   "name": "python3"
  },
  "language_info": {
   "codemirror_mode": {
    "name": "ipython",
    "version": 3
   },
   "file_extension": ".py",
   "mimetype": "text/x-python",
   "name": "python",
   "nbconvert_exporter": "python",
   "pygments_lexer": "ipython3",
   "version": "3.8.5"
  }
 },
 "nbformat": 4,
 "nbformat_minor": 4
}

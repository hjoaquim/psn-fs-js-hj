{
 "cells": [
  {
   "cell_type": "code",
   "execution_count": 1,
   "metadata": {},
   "outputs": [],
   "source": [
    "# I'll leave this 1st cell just for importings.\n",
    "import pandas as pd"
   ]
  },
  {
   "cell_type": "code",
   "execution_count": 2,
   "metadata": {},
   "outputs": [],
   "source": [
    "file_path = r'C:\\Users\\utilizador\\Documents\\a_hjoaquim\\semestre2_5oano\\PSn\\Bayesian-training\\51006_data.csv'\n",
    "df = pd.read_csv(file_path)"
   ]
  },
  {
   "cell_type": "code",
   "execution_count": 3,
   "metadata": {},
   "outputs": [
    {
     "data": {
      "text/html": [
       "<div>\n",
       "<style scoped>\n",
       "    .dataframe tbody tr th:only-of-type {\n",
       "        vertical-align: middle;\n",
       "    }\n",
       "\n",
       "    .dataframe tbody tr th {\n",
       "        vertical-align: top;\n",
       "    }\n",
       "\n",
       "    .dataframe thead th {\n",
       "        text-align: right;\n",
       "    }\n",
       "</style>\n",
       "<table border=\"1\" class=\"dataframe\">\n",
       "  <thead>\n",
       "    <tr style=\"text-align: right;\">\n",
       "      <th></th>\n",
       "      <th>Doenca</th>\n",
       "      <th>Fumo</th>\n",
       "      <th>Falta de força</th>\n",
       "      <th>Dificuldade em pegar</th>\n",
       "    </tr>\n",
       "  </thead>\n",
       "  <tbody>\n",
       "    <tr>\n",
       "      <th>0</th>\n",
       "      <td>Pistons</td>\n",
       "      <td>1</td>\n",
       "      <td>1</td>\n",
       "      <td>0</td>\n",
       "    </tr>\n",
       "    <tr>\n",
       "      <th>1</th>\n",
       "      <td>Pistons</td>\n",
       "      <td>0</td>\n",
       "      <td>1</td>\n",
       "      <td>0</td>\n",
       "    </tr>\n",
       "    <tr>\n",
       "      <th>2</th>\n",
       "      <td>Injetores</td>\n",
       "      <td>1</td>\n",
       "      <td>1</td>\n",
       "      <td>0</td>\n",
       "    </tr>\n",
       "    <tr>\n",
       "      <th>3</th>\n",
       "      <td>Injetores</td>\n",
       "      <td>1</td>\n",
       "      <td>0</td>\n",
       "      <td>1</td>\n",
       "    </tr>\n",
       "    <tr>\n",
       "      <th>4</th>\n",
       "      <td>Pistons</td>\n",
       "      <td>0</td>\n",
       "      <td>1</td>\n",
       "      <td>1</td>\n",
       "    </tr>\n",
       "    <tr>\n",
       "      <th>...</th>\n",
       "      <td>...</td>\n",
       "      <td>...</td>\n",
       "      <td>...</td>\n",
       "      <td>...</td>\n",
       "    </tr>\n",
       "    <tr>\n",
       "      <th>307</th>\n",
       "      <td>Pistons</td>\n",
       "      <td>1</td>\n",
       "      <td>1</td>\n",
       "      <td>0</td>\n",
       "    </tr>\n",
       "    <tr>\n",
       "      <th>308</th>\n",
       "      <td>Eletrico</td>\n",
       "      <td>1</td>\n",
       "      <td>1</td>\n",
       "      <td>1</td>\n",
       "    </tr>\n",
       "    <tr>\n",
       "      <th>309</th>\n",
       "      <td>Eletrico</td>\n",
       "      <td>0</td>\n",
       "      <td>0</td>\n",
       "      <td>1</td>\n",
       "    </tr>\n",
       "    <tr>\n",
       "      <th>310</th>\n",
       "      <td>Injetores</td>\n",
       "      <td>1</td>\n",
       "      <td>0</td>\n",
       "      <td>1</td>\n",
       "    </tr>\n",
       "    <tr>\n",
       "      <th>311</th>\n",
       "      <td>Injetores</td>\n",
       "      <td>1</td>\n",
       "      <td>0</td>\n",
       "      <td>0</td>\n",
       "    </tr>\n",
       "  </tbody>\n",
       "</table>\n",
       "<p>312 rows × 4 columns</p>\n",
       "</div>"
      ],
      "text/plain": [
       "        Doenca  Fumo  Falta de força  Dificuldade em pegar\n",
       "0      Pistons     1               1                     0\n",
       "1      Pistons     0               1                     0\n",
       "2    Injetores     1               1                     0\n",
       "3    Injetores     1               0                     1\n",
       "4      Pistons     0               1                     1\n",
       "..         ...   ...             ...                   ...\n",
       "307    Pistons     1               1                     0\n",
       "308   Eletrico     1               1                     1\n",
       "309   Eletrico     0               0                     1\n",
       "310  Injetores     1               0                     1\n",
       "311  Injetores     1               0                     0\n",
       "\n",
       "[312 rows x 4 columns]"
      ]
     },
     "execution_count": 3,
     "metadata": {},
     "output_type": "execute_result"
    }
   ],
   "source": [
    "df"
   ]
  },
  {
   "cell_type": "code",
   "execution_count": 4,
   "metadata": {},
   "outputs": [],
   "source": [
    "# Let's change our 'Doenca', wich is a String to an integer, with the following correspondense:\n",
    "# Injetores - 1\n",
    "# Pistons - 2\n",
    "# Problema Electico - 3\n",
    "# BTW, the field 'Doenca' is our Class, meaning: the stuff we want to classify.\n",
    "# Since we're doing a Baysian Analysis we'll not predict one class, instead we will tell the most lekely one."
   ]
  },
  {
   "cell_type": "code",
   "execution_count": 5,
   "metadata": {},
   "outputs": [
    {
     "name": "stdout",
     "output_type": "stream",
     "text": [
      "Presenting our conters: \n",
      "\n",
      "Instances labeled 'Injetores': 71\n",
      "Instances labeled 'Pistons': 127\n",
      "Instances labeled 'Eletrico': 114\n"
     ]
    }
   ],
   "source": [
    "# Keeping track, just to control if we don't lose any data.\n",
    "pistonsCounter = 0; eletricoCounter = 0; injetoresCounter = 0\n",
    "for d in df['Doenca'] :\n",
    "    if d == 'Injetores': \n",
    "        injetoresCounter += 1\n",
    "    elif(d == 'Pistons'): \n",
    "        pistonsCounter += 1\n",
    "    elif(d == 'Eletrico'): \n",
    "        eletricoCounter += 1\n",
    "    \n",
    "print(\"Presenting our conters: \\n\")\n",
    "print(\"Instances labeled 'Injetores': {}\".format(injetoresCounter))\n",
    "print(\"Instances labeled 'Pistons': {}\".format(pistonsCounter))\n",
    "print(\"Instances labeled 'Eletrico': {}\".format(eletricoCounter))"
   ]
  },
  {
   "cell_type": "code",
   "execution_count": 6,
   "metadata": {},
   "outputs": [],
   "source": [
    "# Getting rid of un-wanted spaces in the strings.\n",
    "df['Doenca'] = df['Doenca'].apply(lambda x: x.strip())"
   ]
  },
  {
   "cell_type": "code",
   "execution_count": 7,
   "metadata": {},
   "outputs": [],
   "source": [
    "df = df.replace({'Injetores': 1}, regex=True)\n",
    "df = df.replace({'Pistons': 2}, regex=True)\n",
    "df = df.replace({'Eletrico': 3}, regex=True)"
   ]
  },
  {
   "cell_type": "code",
   "execution_count": 10,
   "metadata": {},
   "outputs": [
    {
     "name": "stdout",
     "output_type": "stream",
     "text": [
      "Presenting our control conters: \n",
      "\n",
      "Instances labeled 'Injetores': 71\n",
      "Instances labeled 'Pistons': 127\n",
      "Instances labeled 'Eletrico': 114\n"
     ]
    }
   ],
   "source": [
    "# Let's see if we haven't messed with our dataframe and the counters still make sense.\n",
    "pistonsCounter = 0; eletricoCounter = 0; injetoresCounter = 0\n",
    "for d in df['Doenca'] :\n",
    "    if d == 1: \n",
    "        injetoresCounter += 1\n",
    "    elif(d == 2): \n",
    "        pistonsCounter += 1\n",
    "    elif(d == 3): \n",
    "        eletricoCounter += 1\n",
    "    \n",
    "print(\"Presenting our control conters: \\n\")\n",
    "print(\"Instances labeled 'Injetores': {}\".format(injetoresCounter))\n",
    "print(\"Instances labeled 'Pistons': {}\".format(pistonsCounter))\n",
    "print(\"Instances labeled 'Eletrico': {}\".format(eletricoCounter))"
   ]
  },
  {
   "cell_type": "code",
   "execution_count": 43,
   "metadata": {},
   "outputs": [
    {
     "data": {
      "text/html": [
       "<div>\n",
       "<style scoped>\n",
       "    .dataframe tbody tr th:only-of-type {\n",
       "        vertical-align: middle;\n",
       "    }\n",
       "\n",
       "    .dataframe tbody tr th {\n",
       "        vertical-align: top;\n",
       "    }\n",
       "\n",
       "    .dataframe thead th {\n",
       "        text-align: right;\n",
       "    }\n",
       "</style>\n",
       "<table border=\"1\" class=\"dataframe\">\n",
       "  <thead>\n",
       "    <tr style=\"text-align: right;\">\n",
       "      <th></th>\n",
       "      <th>Doenca</th>\n",
       "      <th>Fumo</th>\n",
       "      <th>Falta de força</th>\n",
       "      <th>Dificuldade em pegar</th>\n",
       "    </tr>\n",
       "  </thead>\n",
       "  <tbody>\n",
       "    <tr>\n",
       "      <th>0</th>\n",
       "      <td>2</td>\n",
       "      <td>1</td>\n",
       "      <td>1</td>\n",
       "      <td>0</td>\n",
       "    </tr>\n",
       "    <tr>\n",
       "      <th>1</th>\n",
       "      <td>2</td>\n",
       "      <td>0</td>\n",
       "      <td>1</td>\n",
       "      <td>0</td>\n",
       "    </tr>\n",
       "    <tr>\n",
       "      <th>2</th>\n",
       "      <td>1</td>\n",
       "      <td>1</td>\n",
       "      <td>1</td>\n",
       "      <td>0</td>\n",
       "    </tr>\n",
       "    <tr>\n",
       "      <th>3</th>\n",
       "      <td>1</td>\n",
       "      <td>1</td>\n",
       "      <td>0</td>\n",
       "      <td>1</td>\n",
       "    </tr>\n",
       "    <tr>\n",
       "      <th>4</th>\n",
       "      <td>2</td>\n",
       "      <td>0</td>\n",
       "      <td>1</td>\n",
       "      <td>1</td>\n",
       "    </tr>\n",
       "    <tr>\n",
       "      <th>...</th>\n",
       "      <td>...</td>\n",
       "      <td>...</td>\n",
       "      <td>...</td>\n",
       "      <td>...</td>\n",
       "    </tr>\n",
       "    <tr>\n",
       "      <th>307</th>\n",
       "      <td>2</td>\n",
       "      <td>1</td>\n",
       "      <td>1</td>\n",
       "      <td>0</td>\n",
       "    </tr>\n",
       "    <tr>\n",
       "      <th>308</th>\n",
       "      <td>3</td>\n",
       "      <td>1</td>\n",
       "      <td>1</td>\n",
       "      <td>1</td>\n",
       "    </tr>\n",
       "    <tr>\n",
       "      <th>309</th>\n",
       "      <td>3</td>\n",
       "      <td>0</td>\n",
       "      <td>0</td>\n",
       "      <td>1</td>\n",
       "    </tr>\n",
       "    <tr>\n",
       "      <th>310</th>\n",
       "      <td>1</td>\n",
       "      <td>1</td>\n",
       "      <td>0</td>\n",
       "      <td>1</td>\n",
       "    </tr>\n",
       "    <tr>\n",
       "      <th>311</th>\n",
       "      <td>1</td>\n",
       "      <td>1</td>\n",
       "      <td>0</td>\n",
       "      <td>0</td>\n",
       "    </tr>\n",
       "  </tbody>\n",
       "</table>\n",
       "<p>312 rows × 4 columns</p>\n",
       "</div>"
      ],
      "text/plain": [
       "     Doenca  Fumo  Falta de força  Dificuldade em pegar\n",
       "0         2     1               1                     0\n",
       "1         2     0               1                     0\n",
       "2         1     1               1                     0\n",
       "3         1     1               0                     1\n",
       "4         2     0               1                     1\n",
       "..      ...   ...             ...                   ...\n",
       "307       2     1               1                     0\n",
       "308       3     1               1                     1\n",
       "309       3     0               0                     1\n",
       "310       1     1               0                     1\n",
       "311       1     1               0                     0\n",
       "\n",
       "[312 rows x 4 columns]"
      ]
     },
     "execution_count": 43,
     "metadata": {},
     "output_type": "execute_result"
    }
   ],
   "source": [
    "df"
   ]
  },
  {
   "cell_type": "code",
   "execution_count": 11,
   "metadata": {},
   "outputs": [
    {
     "data": {
      "text/html": [
       "<div>\n",
       "<style scoped>\n",
       "    .dataframe tbody tr th:only-of-type {\n",
       "        vertical-align: middle;\n",
       "    }\n",
       "\n",
       "    .dataframe tbody tr th {\n",
       "        vertical-align: top;\n",
       "    }\n",
       "\n",
       "    .dataframe thead th {\n",
       "        text-align: right;\n",
       "    }\n",
       "</style>\n",
       "<table border=\"1\" class=\"dataframe\">\n",
       "  <thead>\n",
       "    <tr style=\"text-align: right;\">\n",
       "      <th></th>\n",
       "      <th>Avaria</th>\n",
       "      <th>P(d)</th>\n",
       "      <th>P(Fumo|Problema)</th>\n",
       "      <th>P(Falta de força|Problema)</th>\n",
       "      <th>P(Dificuldade em pegar|Problema)</th>\n",
       "    </tr>\n",
       "  </thead>\n",
       "  <tbody>\n",
       "  </tbody>\n",
       "</table>\n",
       "</div>"
      ],
      "text/plain": [
       "Empty DataFrame\n",
       "Columns: [Avaria, P(d), P(Fumo|Problema), P(Falta de força|Problema), P(Dificuldade em pegar|Problema)]\n",
       "Index: []"
      ]
     },
     "execution_count": 11,
     "metadata": {},
     "output_type": "execute_result"
    }
   ],
   "source": [
    "# Let's create our new table aka dataframe.\n",
    "probDf = pd.DataFrame(columns = ['Avaria', 'P(d)', 'P(Fumo|Problema)', 'P(Falta de força|Problema)', 'P(Dificuldade em pegar|Problema)'])\n",
    "probDf"
   ]
  },
  {
   "cell_type": "code",
   "execution_count": 12,
   "metadata": {},
   "outputs": [],
   "source": [
    "probDf['Avaria'] = ['Injetores', 'Pistons', 'Eletrico']"
   ]
  },
  {
   "cell_type": "code",
   "execution_count": 13,
   "metadata": {},
   "outputs": [
    {
     "data": {
      "text/html": [
       "<div>\n",
       "<style scoped>\n",
       "    .dataframe tbody tr th:only-of-type {\n",
       "        vertical-align: middle;\n",
       "    }\n",
       "\n",
       "    .dataframe tbody tr th {\n",
       "        vertical-align: top;\n",
       "    }\n",
       "\n",
       "    .dataframe thead th {\n",
       "        text-align: right;\n",
       "    }\n",
       "</style>\n",
       "<table border=\"1\" class=\"dataframe\">\n",
       "  <thead>\n",
       "    <tr style=\"text-align: right;\">\n",
       "      <th></th>\n",
       "      <th>Avaria</th>\n",
       "      <th>P(d)</th>\n",
       "      <th>P(Fumo|Problema)</th>\n",
       "      <th>P(Falta de força|Problema)</th>\n",
       "      <th>P(Dificuldade em pegar|Problema)</th>\n",
       "    </tr>\n",
       "  </thead>\n",
       "  <tbody>\n",
       "    <tr>\n",
       "      <th>0</th>\n",
       "      <td>Injetores</td>\n",
       "      <td>NaN</td>\n",
       "      <td>NaN</td>\n",
       "      <td>NaN</td>\n",
       "      <td>NaN</td>\n",
       "    </tr>\n",
       "    <tr>\n",
       "      <th>1</th>\n",
       "      <td>Pistons</td>\n",
       "      <td>NaN</td>\n",
       "      <td>NaN</td>\n",
       "      <td>NaN</td>\n",
       "      <td>NaN</td>\n",
       "    </tr>\n",
       "    <tr>\n",
       "      <th>2</th>\n",
       "      <td>Eletrico</td>\n",
       "      <td>NaN</td>\n",
       "      <td>NaN</td>\n",
       "      <td>NaN</td>\n",
       "      <td>NaN</td>\n",
       "    </tr>\n",
       "  </tbody>\n",
       "</table>\n",
       "</div>"
      ],
      "text/plain": [
       "      Avaria P(d) P(Fumo|Problema) P(Falta de força|Problema)  \\\n",
       "0  Injetores  NaN              NaN                        NaN   \n",
       "1    Pistons  NaN              NaN                        NaN   \n",
       "2   Eletrico  NaN              NaN                        NaN   \n",
       "\n",
       "  P(Dificuldade em pegar|Problema)  \n",
       "0                              NaN  \n",
       "1                              NaN  \n",
       "2                              NaN  "
      ]
     },
     "execution_count": 13,
     "metadata": {},
     "output_type": "execute_result"
    }
   ],
   "source": [
    "probDf"
   ]
  },
  {
   "cell_type": "code",
   "execution_count": 40,
   "metadata": {},
   "outputs": [
    {
     "name": "stdout",
     "output_type": "stream",
     "text": [
      "0.22756410256410256\n",
      "0.40705128205128205\n",
      "0.36538461538461536\n",
      "1.0\n"
     ]
    }
   ],
   "source": [
    "nRows = df['Doenca'].count()\n",
    "nInjetores = df['Doenca'].tolist().count(1)\n",
    "nPistons = df['Doenca'].tolist().count(2)\n",
    "nEletrico =  df['Doenca'].tolist().count(3)\n",
    "\n",
    "pdInjetores = nInjetores / nRows\n",
    "pdPistons = nPistons / nRows\n",
    "pdEletrico = nEletrico / nRows\n",
    "\n",
    "\n",
    "# If the sum is equal to 1, we're good to go!\n",
    "print(pdInjetores); print(pdPistons); print(pdEletrico)\n",
    "print(pdInjetores + pdPistons + pdEletrico)\n",
    "\n",
    "# Let's put the probability of each problem in a array\n",
    "pd = []; pd.append(pdInjetores); pd.append(pdPistons); pd.append(pdEletrico)"
   ]
  },
  {
   "cell_type": "code",
   "execution_count": 50,
   "metadata": {},
   "outputs": [],
   "source": [
    "# Getting the universe of each problem.\n",
    "dfInjetores = df.loc[df['Doenca'] == 1]\n",
    "dfPistons = df.loc[df['Doenca'] == 2]\n",
    "dfEletrico = df.loc[df['Doenca'] == 3]"
   ]
  },
  {
   "cell_type": "code",
   "execution_count": 51,
   "metadata": {},
   "outputs": [
    {
     "data": {
      "text/plain": [
       "0.8873239436619719"
      ]
     },
     "execution_count": 51,
     "metadata": {},
     "output_type": "execute_result"
    }
   ],
   "source": [
    "# Calculating each conditional probability \n",
    "# Format: P(shymptom | problem)\n",
    "pFumoInjetores = dfInjetores['Fumo'].sum() / nInjetores\n",
    "pFumoPistons = dfPistons['Fumo'].sum() / nPistons\n",
    "pFumoPistons = dfEletrico['Fumo'].sum() / nEletrico\n",
    "\n"
   ]
  },
  {
   "cell_type": "code",
   "execution_count": null,
   "metadata": {},
   "outputs": [],
   "source": []
  }
 ],
 "metadata": {
  "kernelspec": {
   "display_name": "Python 3",
   "language": "python",
   "name": "python3"
  },
  "language_info": {
   "codemirror_mode": {
    "name": "ipython",
    "version": 3
   },
   "file_extension": ".py",
   "mimetype": "text/x-python",
   "name": "python",
   "nbconvert_exporter": "python",
   "pygments_lexer": "ipython3",
   "version": "3.8.5"
  }
 },
 "nbformat": 4,
 "nbformat_minor": 4
}

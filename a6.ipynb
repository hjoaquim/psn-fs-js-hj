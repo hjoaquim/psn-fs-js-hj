{
 "cells": [
  {
   "cell_type": "code",
   "execution_count": 1,
   "metadata": {},
   "outputs": [],
   "source": [
    "TrainingSet=[{'x':6.7602539670,'y':-2.4387523460,'N3':0},\n",
    "             {'x':0.2378982210,'y':-8.2276742330,'N3':0},\n",
    "             {'x':2.0094936980, 'y':0.6249651720,'N3':0},\n",
    "             {'x':-9.8509350550, 'y':0.1777744150,'N3':0},\n",
    "             {'x':-1.0748279990, 'y':-8.6737909960,'N3':0},\n",
    "             {'x':-1.1968678340, 'y':8.3407572130,'N3':0},\n",
    "             {'x':7.6367881760, 'y':9.7875379540,'N3':0},\n",
    "             {'x':-0.6319729550, 'y':5.1232197830,'N3':0},\n",
    "             {'x':-8.2754243970, 'y':-2.3798495030,'N3':0},\n",
    "             {'x':-0.1986448540, 'y':-8.7164672830,'N3':0},\n",
    "             {'x':-8.4873501930,'y':-6.6645671410,'N3':0},\n",
    "             {'x':4.2828037150, 'y':9.9602949050,'N3':0},\n",
    "             {'x':0.6953739670, 'y':7.2005364870,'N3':0},\n",
    "             {'x':-3.9462956950, 'y':-5.0715989040,'N3':0},\n",
    "             {'x':1.8548584640, 'y':-3.6475279180,'N3':1},\n",
    "             {'x':5.3674101120, 'y':-5.9137418930,'N3':1},\n",
    "             {'x':1.5922647610, 'y':-0.5358552360,'N3':1},\n",
    "             {'x':-0.8892370090, 'y':1.8587602300,'N3':1},\n",
    "             {'x':8.5913808400, 'y':-8.9701288220,'N3':1},\n",
    "             {'x':1.2633234570, 'y':-1.8066350900,'N3':1},\n",
    "             {'x':-7.4103478260, 'y':5.6418249780,'N3':1}]"
   ]
  },
  {
   "cell_type": "code",
   "execution_count": 2,
   "metadata": {},
   "outputs": [],
   "source": [
    "net=[\n",
    "        [['x',0],['y',0]],\n",
    "        [\n",
    "            [\n",
    "                ['N1',[['w10',1],['w11','x'],['w12','y']],0,0], \n",
    "                ['N2',[['w20',1],['w21','x'],['w22','y']],0,0]\n",
    "            ],\n",
    "            [\n",
    "                ['N3',[['w30',1],['w31','N1'],['w32','N2']],0,0]\n",
    "            ]\n",
    "        ]\n",
    "    ]\n",
    "\n",
    "initVals={'w10':0.4, 'w11':1.4, 'w12':1.0,\n",
    "          'w20':-1.5, 'w21':1.0, 'w22':-0.5,\n",
    "          'w30':5.4, 'w31':-8.0, 'w32':-10.0} "
   ]
  },
  {
   "cell_type": "code",
   "execution_count": null,
   "metadata": {},
   "outputs": [],
   "source": [
    "net"
   ]
  },
  {
   "cell_type": "code",
   "execution_count": 3,
   "metadata": {},
   "outputs": [],
   "source": [
    "def initNet(net,initVals):\n",
    "    \n",
    "    for i in range(0,len(net[1])):\n",
    "        for n in range(len(net[1][i])):\n",
    "            for w in range(len(net[1][i][n][1])):\n",
    "                net[1][i][n][1][w][0]=initVals[net[1][i][n][1][w][0]]\n",
    "                 \n",
    "initNet(net,initVals)"
   ]
  },
  {
   "cell_type": "code",
   "execution_count": null,
   "metadata": {},
   "outputs": [],
   "source": [
    "net"
   ]
  },
  {
   "cell_type": "code",
   "execution_count": 4,
   "metadata": {},
   "outputs": [
    {
     "name": "stdout",
     "output_type": "stream",
     "text": [
      "{'x': 6.760253967, 'y': -2.438752346, 'N3': 0}\n",
      "x\n",
      "y\n"
     ]
    }
   ],
   "source": [
    "def setInputs(net,TS,ind):\n",
    "    v=TS[ind]\n",
    "    print(v)\n",
    "    for i in range(len(net[0])):\n",
    "        print(net[0][i][0])\n",
    "        net[0][i][1] = v[net[0][i][0]]\n",
    "\n",
    "setInputs(net,TrainingSet,0)"
   ]
  },
  {
   "cell_type": "code",
   "execution_count": 5,
   "metadata": {},
   "outputs": [
    {
     "data": {
      "text/plain": [
       "[[['x', 6.760253967], ['y', -2.438752346]],\n",
       " [[['N1', [[0.4, 1], [1.4, 'x'], [1.0, 'y']], 0, 0],\n",
       "   ['N2', [[-1.5, 1], [1.0, 'x'], [-0.5, 'y']], 0, 0]],\n",
       "  [['N3', [[5.4, 1], [-8.0, 'N1'], [-10.0, 'N2']], 0, 0]]]]"
      ]
     },
     "execution_count": 5,
     "metadata": {},
     "output_type": "execute_result"
    }
   ],
   "source": [
    "net"
   ]
  },
  {
   "cell_type": "code",
   "execution_count": null,
   "metadata": {},
   "outputs": [],
   "source": [
    "i = net[1][0][0][1][0][0] * net[1][0][0][1][0][1] \n",
    "print(i)"
   ]
  },
  {
   "cell_type": "code",
   "execution_count": 7,
   "metadata": {},
   "outputs": [
    {
     "name": "stdout",
     "output_type": "stream",
     "text": [
      "[0.4, 1]\n",
      "[1.4, 'x']\n",
      "[1.0, 'y']\n"
     ]
    }
   ],
   "source": [
    "def sumPesos(net):\n",
    "    \n",
    "    \n",
    "    for i in range(len(net[1][0][0][1])):\n",
    "            print(net[1][0][0][1][i])\n",
    "            net[1][0][0][1][i]\n",
    "            \n",
    "                   \n",
    "sumPesos(net)"
   ]
  },
  {
   "cell_type": "code",
   "execution_count": null,
   "metadata": {},
   "outputs": [],
   "source": []
  },
  {
   "cell_type": "code",
   "execution_count": null,
   "metadata": {},
   "outputs": [],
   "source": []
  }
 ],
 "metadata": {
  "kernelspec": {
   "display_name": "Python 3",
   "language": "python",
   "name": "python3"
  },
  "language_info": {
   "codemirror_mode": {
    "name": "ipython",
    "version": 3
   },
   "file_extension": ".py",
   "mimetype": "text/x-python",
   "name": "python",
   "nbconvert_exporter": "python",
   "pygments_lexer": "ipython3",
   "version": "3.8.5"
  }
 },
 "nbformat": 4,
 "nbformat_minor": 4
}

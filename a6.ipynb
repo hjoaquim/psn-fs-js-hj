{
 "cells": [
  {
   "cell_type": "code",
   "execution_count": 1,
   "metadata": {},
   "outputs": [],
   "source": [
    "import math"
   ]
  },
  {
   "cell_type": "code",
   "execution_count": 2,
   "metadata": {},
   "outputs": [],
   "source": [
    "TrainingSet=[{'x':-6.7602539670,'y':-2.4387523460,'N3':0},\n",
    "             {'x':0.2378982210,'y':-8.2276742330,'N3':0},\n",
    "             {'x':2.0094936980, 'y':0.6249651720,'N3':0},\n",
    "             {'x':-9.8509350550, 'y':0.1777744150,'N3':0},\n",
    "             {'x':-1.0748279990, 'y':-8.6737909960,'N3':0},\n",
    "             {'x':-1.1968678340, 'y':8.3407572130,'N3':0},\n",
    "             {'x':7.6367881760, 'y':9.7875379540,'N3':0},\n",
    "             {'x':-0.6319729550, 'y':5.1232197830,'N3':0},\n",
    "             {'x':-8.2754243970, 'y':-2.3798495030,'N3':0},\n",
    "             {'x':-0.1986448540, 'y':-8.7164672830,'N3':0},\n",
    "             {'x':-8.4873501930,'y':-6.6645671410,'N3':0},\n",
    "             {'x':4.2828037150, 'y':9.9602949050,'N3':0},\n",
    "             {'x':0.6953739670, 'y':7.2005364870,'N3':0},\n",
    "             {'x':-3.9462956950, 'y':-5.0715989040,'N3':0},\n",
    "             {'x':1.8548584640, 'y':-3.6475279180,'N3':1},\n",
    "             {'x':5.3674101120, 'y':-5.9137418930,'N3':1},\n",
    "             {'x':1.5922647610, 'y':-0.5358552360,'N3':1},\n",
    "             {'x':-0.8892370090, 'y':1.8587602300,'N3':1},\n",
    "             {'x':8.5913808400, 'y':-8.9701288220,'N3':1},\n",
    "             {'x':1.2633234570, 'y':-1.8066350900,'N3':1},\n",
    "             {'x':-7.4103478260, 'y':5.6418249780,'N3':1}]"
   ]
  },
  {
   "cell_type": "code",
   "execution_count": 3,
   "metadata": {},
   "outputs": [],
   "source": [
    "net=[\n",
    "        [['x',0],['y',0]],\n",
    "        [\n",
    "            [\n",
    "                ['N1',[['w10',1],['w11', 'x'],['w12','y']],0,0], \n",
    "                ['N2',[['w20',1],['w21','x'],['w22','y']],0,0]\n",
    "            ],\n",
    "            [\n",
    "                ['N3',[['w30',1],['w31','N1'],['w32','N2']],0,0]\n",
    "            ]\n",
    "        ]\n",
    "    ]\n",
    "\n",
    "initVals={'w10':0.4, 'w11':1.4, 'w12':1.0,\n",
    "          'w20':-1.5, 'w21':1.0, 'w22':-0.5,\n",
    "          'w30':5.4, 'w31':-8.0, 'w32':-10.0} "
   ]
  },
  {
   "cell_type": "code",
   "execution_count": 4,
   "metadata": {},
   "outputs": [
    {
     "data": {
      "text/plain": [
       "[[['x', 0], ['y', 0]],\n",
       " [[['N1', [['w10', 1], ['w11', 'x'], ['w12', 'y']], 0, 0],\n",
       "   ['N2', [['w20', 1], ['w21', 'x'], ['w22', 'y']], 0, 0]],\n",
       "  [['N3', [['w30', 1], ['w31', 'N1'], ['w32', 'N2']], 0, 0]]]]"
      ]
     },
     "execution_count": 4,
     "metadata": {},
     "output_type": "execute_result"
    }
   ],
   "source": [
    "net"
   ]
  },
  {
   "cell_type": "code",
   "execution_count": 5,
   "metadata": {},
   "outputs": [],
   "source": [
    "def initNet(net,initVals):\n",
    "    \n",
    "    for i in range(0,len(net[1])):\n",
    "        for n in range(len(net[1][i])):\n",
    "            for w in range(len(net[1][i][n][1])):\n",
    "                net[1][i][n][1][w][0]=initVals[net[1][i][n][1][w][0]]\n",
    "                 \n",
    "initNet(net,initVals)"
   ]
  },
  {
   "cell_type": "code",
   "execution_count": 6,
   "metadata": {},
   "outputs": [
    {
     "data": {
      "text/plain": [
       "[[['x', 0], ['y', 0]],\n",
       " [[['N1', [[0.4, 1], [1.4, 'x'], [1.0, 'y']], 0, 0],\n",
       "   ['N2', [[-1.5, 1], [1.0, 'x'], [-0.5, 'y']], 0, 0]],\n",
       "  [['N3', [[5.4, 1], [-8.0, 'N1'], [-10.0, 'N2']], 0, 0]]]]"
      ]
     },
     "execution_count": 6,
     "metadata": {},
     "output_type": "execute_result"
    }
   ],
   "source": [
    "net"
   ]
  },
  {
   "cell_type": "code",
   "execution_count": 7,
   "metadata": {},
   "outputs": [],
   "source": [
    "def setInputs(net,TS,ind):\n",
    "    v=TS[ind]\n",
    "   # print(v)\n",
    "    for i in range(len(net[0])):\n",
    "   #     print(net[0][i][0])\n",
    "        net[0][i][1] = v[net[0][i][0]]\n",
    "          \n",
    "setInputs(net,TrainingSet,0)"
   ]
  },
  {
   "cell_type": "code",
   "execution_count": 8,
   "metadata": {},
   "outputs": [
    {
     "data": {
      "text/plain": [
       "[[['x', -6.760253967], ['y', -2.438752346]],\n",
       " [[['N1', [[0.4, 1], [1.4, 'x'], [1.0, 'y']], 0, 0],\n",
       "   ['N2', [[-1.5, 1], [1.0, 'x'], [-0.5, 'y']], 0, 0]],\n",
       "  [['N3', [[5.4, 1], [-8.0, 'N1'], [-10.0, 'N2']], 0, 0]]]]"
      ]
     },
     "execution_count": 8,
     "metadata": {},
     "output_type": "execute_result"
    }
   ],
   "source": [
    "net"
   ]
  },
  {
   "cell_type": "code",
   "execution_count": 9,
   "metadata": {},
   "outputs": [],
   "source": [
    "#setWeights\n",
    "def setWeights(net):\n",
    "\n",
    "    net[1][0][0][1][1][1] = net[0][0][1]\n",
    "    net[1][0][1][1][1][1] = net[0][0][1]\n",
    "    net[1][0][0][1][2][1] = net[0][1][1]\n",
    "    net[1][0][1][1][2][1] = net[0][1][1]\n",
    "        \n",
    "setWeights(net)"
   ]
  },
  {
   "cell_type": "code",
   "execution_count": 10,
   "metadata": {},
   "outputs": [
    {
     "data": {
      "text/plain": [
       "[[['x', -6.760253967], ['y', -2.438752346]],\n",
       " [[['N1', [[0.4, 1], [1.4, -6.760253967], [1.0, -2.438752346]], 0, 0],\n",
       "   ['N2', [[-1.5, 1], [1.0, -6.760253967], [-0.5, -2.438752346]], 0, 0]],\n",
       "  [['N3', [[5.4, 1], [-8.0, 'N1'], [-10.0, 'N2']], 0, 0]]]]"
      ]
     },
     "execution_count": 10,
     "metadata": {},
     "output_type": "execute_result"
    }
   ],
   "source": [
    "net"
   ]
  },
  {
   "cell_type": "code",
   "execution_count": 11,
   "metadata": {},
   "outputs": [
    {
     "data": {
      "text/plain": [
       "[0.4, -9.464355553799999, -2.438752346, -1.5, -6.760253967, 1.219376173]"
      ]
     },
     "execution_count": 11,
     "metadata": {},
     "output_type": "execute_result"
    }
   ],
   "source": [
    "#MultPesos\n",
    "def sumPesos(net):\n",
    "    \n",
    "    sum_of_weight=[]\n",
    "    for w in range(len(net[1][0])):\n",
    "    #    print(net[1][0][w])\n",
    "        for i in range(len(net[1][0][w][1])):\n",
    "    #        print(net[1][0][w][1][i])\n",
    "            sum_of_weight.append(net[1][0][w][1][i][0] * net[1][0][w][1][i][1])\n",
    "            \n",
    "    return sum_of_weight\n",
    "                             \n",
    "sumPesos(net)"
   ]
  },
  {
   "cell_type": "code",
   "execution_count": 12,
   "metadata": {},
   "outputs": [],
   "source": [
    "#O1,O2\n",
    "def out12(net):\n",
    "\n",
    "    pesos = sumPesos(net)\n",
    "    a = sum(pesos[0:3])\n",
    "    b = sum(pesos[3:7])\n",
    "\n",
    "    net[1][0][0][2]= 1/(1+math.exp(-a))\n",
    "    net[1][0][1][2]= 1/(1+math.exp(-b))\n",
    "    \n",
    "    #replace dos n1,n2 no n3\n",
    "    net[1][1][0][1][1][1] = net[1][0][0][2]\n",
    "    net[1][1][0][1][2][1] = net[1][0][1][2]\n",
    "\n",
    "out12(net)"
   ]
  },
  {
   "cell_type": "code",
   "execution_count": 13,
   "metadata": {},
   "outputs": [
    {
     "data": {
      "text/plain": [
       "[[['x', -6.760253967], ['y', -2.438752346]],\n",
       " [[['N1',\n",
       "    [[0.4, 1], [1.4, -6.760253967], [1.0, -2.438752346]],\n",
       "    1.0098557173726497e-05,\n",
       "    0],\n",
       "   ['N2',\n",
       "    [[-1.5, 1], [1.0, -6.760253967], [-0.5, -2.438752346]],\n",
       "    0.0008745922598650376,\n",
       "    0]],\n",
       "  [['N3',\n",
       "    [[5.4, 1], [-8.0, 1.0098557173726497e-05], [-10.0, 0.0008745922598650376]],\n",
       "    0,\n",
       "    0]]]]"
      ]
     },
     "execution_count": 13,
     "metadata": {},
     "output_type": "execute_result"
    }
   ],
   "source": [
    "net"
   ]
  },
  {
   "cell_type": "code",
   "execution_count": 14,
   "metadata": {},
   "outputs": [
    {
     "data": {
      "text/plain": [
       "[[['x', -6.760253967], ['y', -2.438752346]],\n",
       " [[['N1',\n",
       "    [[0.4, 1], [1.4, -6.760253967], [1.0, -2.438752346]],\n",
       "    1.0098557173726497e-05,\n",
       "    0],\n",
       "   ['N2',\n",
       "    [[-1.5, 1], [1.0, -6.760253967], [-0.5, -2.438752346]],\n",
       "    0.0008745922598650376,\n",
       "    0]],\n",
       "  [['N3',\n",
       "    [[5.4, 1], [-8.0, 1.0098557173726497e-05], [-10.0, 0.0008745922598650376]],\n",
       "    0,\n",
       "    0]]]]"
      ]
     },
     "execution_count": 14,
     "metadata": {},
     "output_type": "execute_result"
    }
   ],
   "source": [
    "net"
   ]
  },
  {
   "cell_type": "code",
   "execution_count": 15,
   "metadata": {},
   "outputs": [],
   "source": [
    "#O3\n",
    "def out3(net):\n",
    "\n",
    "    sum_of_weight_N3=[]\n",
    "\n",
    "    for i in range(len(net[1][1][0][1])):\n",
    "    #    print(net[1][1][0][1][i])\n",
    "        sum_of_weight_N3.append(net[1][1][0][1][i][0] * net[1][1][0][1][i][1])\n",
    "    #    print(sum_of_weight_N3)   \n",
    "\n",
    "    a = sum(sum_of_weight_N3)\n",
    "    net[1][1][0][2]= 1/(1+math.exp(-a))\n",
    "    \n",
    "out3(net)"
   ]
  },
  {
   "cell_type": "code",
   "execution_count": 16,
   "metadata": {},
   "outputs": [
    {
     "data": {
      "text/plain": [
       "[[['x', -6.760253967], ['y', -2.438752346]],\n",
       " [[['N1',\n",
       "    [[0.4, 1], [1.4, -6.760253967], [1.0, -2.438752346]],\n",
       "    1.0098557173726497e-05,\n",
       "    0],\n",
       "   ['N2',\n",
       "    [[-1.5, 1], [1.0, -6.760253967], [-0.5, -2.438752346]],\n",
       "    0.0008745922598650376,\n",
       "    0]],\n",
       "  [['N3',\n",
       "    [[5.4, 1], [-8.0, 1.0098557173726497e-05], [-10.0, 0.0008745922598650376]],\n",
       "    0.9954640446810432,\n",
       "    0]]]]"
      ]
     },
     "execution_count": 16,
     "metadata": {},
     "output_type": "execute_result"
    }
   ],
   "source": [
    "net"
   ]
  },
  {
   "cell_type": "code",
   "execution_count": 17,
   "metadata": {},
   "outputs": [],
   "source": [
    "def deltas(net,TS,ind):\n",
    "    v=TS[ind]\n",
    "    # print(v[net[1][1][0][0]])\n",
    "    target = v[net[1][1][0][0]]\n",
    "    \n",
    "#delta3\n",
    "    net[1][1][0][3] = net[1][1][0][2]*(1-net[1][1][0][2])*(target-(net[1][1][0][2]))\n",
    "#delta1\n",
    "    net[1][0][0][3] = net[1][0][0][2]*(1-net[1][0][0][2])*net[1][1][0][1][1][0]*net[1][1][0][3]\n",
    "#delta2\n",
    "    net[1][0][1][3] = net[1][0][1][2]*(1-net[1][0][1][2])*net[1][1][0][1][2][0]*net[1][1][0][3]\n",
    "\n",
    "deltas(net,TrainingSet,0)"
   ]
  },
  {
   "cell_type": "code",
   "execution_count": 18,
   "metadata": {},
   "outputs": [
    {
     "data": {
      "text/plain": [
       "[[['x', -6.760253967], ['y', -2.438752346]],\n",
       " [[['N1',\n",
       "    [[0.4, 1], [1.4, -6.760253967], [1.0, -2.438752346]],\n",
       "    1.0098557173726497e-05,\n",
       "    3.6313227823143915e-07],\n",
       "   ['N2',\n",
       "    [[-1.5, 1], [1.0, -6.760253967], [-0.5, -2.438752346]],\n",
       "    0.0008745922598650376,\n",
       "    3.9277655553302354e-05]],\n",
       "  [['N3',\n",
       "    [[5.4, 1], [-8.0, 1.0098557173726497e-05], [-10.0, 0.0008745922598650376]],\n",
       "    0.9954640446810432,\n",
       "    -0.004494898864430347]]]]"
      ]
     },
     "execution_count": 18,
     "metadata": {},
     "output_type": "execute_result"
    }
   ],
   "source": [
    "net"
   ]
  },
  {
   "cell_type": "code",
   "execution_count": 19,
   "metadata": {},
   "outputs": [],
   "source": [
    "def newWeights(net):\n",
    "\n",
    "    for i in range(len(net[1])):\n",
    "\n",
    "        for j in range(len(net[1][i])):\n",
    "        #    print(net[1][i][j])\n",
    "            for k in range(len(net[1][i][j][1])):\n",
    "        #        print(net[1][i][j][1][k][0])\n",
    "                net[1][i][j][1][k][0] = net[1][i][j][1][k][0] + 0.1 * net[1][i][j][3] * net[1][i][j][1][k][1]\n",
    "\n",
    "newWeights(net)"
   ]
  },
  {
   "cell_type": "code",
   "execution_count": 20,
   "metadata": {},
   "outputs": [
    {
     "data": {
      "text/plain": [
       "[[['x', -6.760253967], ['y', -2.438752346]],\n",
       " [[['N1',\n",
       "    [[0.40000003631322784, 1],\n",
       "     [1.3999997545133576, -6.760253967],\n",
       "     [0.9999999114410305, -2.438752346]],\n",
       "    1.0098557173726497e-05,\n",
       "    3.6313227823143915e-07],\n",
       "   ['N2',\n",
       "    [[-1.4999960722344448, 1],\n",
       "     [0.9999734473073232, -6.760253967],\n",
       "     [-0.5000095788474626, -2.438752346]],\n",
       "    0.0008745922598650376,\n",
       "    3.9277655553302354e-05]],\n",
       "  [['N3',\n",
       "    [[5.399550510113557, 1],\n",
       "     [-8.0000000045392, 1.0098557173726497e-05],\n",
       "     [-10.000000393120375, 0.0008745922598650376]],\n",
       "    0.9954640446810432,\n",
       "    -0.004494898864430347]]]]"
      ]
     },
     "execution_count": 20,
     "metadata": {},
     "output_type": "execute_result"
    }
   ],
   "source": [
    "net"
   ]
  },
  {
   "cell_type": "code",
   "execution_count": 21,
   "metadata": {},
   "outputs": [],
   "source": [
    "def epoca(net,TS):\n",
    "    \n",
    "    for ind in range (1,len(TS)):\n",
    "        \n",
    "        setInputs(net,TrainingSet,ind)\n",
    "        setWeights(net)                              \n",
    "        sumPesos(net)    \n",
    "        out12(net)    \n",
    "        out3(net)\n",
    "        deltas(net,TrainingSet,ind)\n",
    "        newWeights(net)\n",
    "        \n",
    "epoca(net,TrainingSet)    "
   ]
  },
  {
   "cell_type": "code",
   "execution_count": 22,
   "metadata": {},
   "outputs": [
    {
     "data": {
      "text/plain": [
       "[[['x', -7.410347826], ['y', 5.641824978]],\n",
       " [[['N1',\n",
       "    [[0.376266499879864, 1],\n",
       "     [1.4192249866391529, -7.410347826],\n",
       "     [0.9594166897413322, 5.641824978]],\n",
       "    0.00876826440991753,\n",
       "    -1.5714929330044918e-06],\n",
       "   ['N2',\n",
       "    [[-1.5049663822405734, 1],\n",
       "     [1.0018069292685343, -7.410347826],\n",
       "     [-0.5105108826002814, 5.641824978]],\n",
       "    7.4378803064963155e-06,\n",
       "    -1.6829985904404975e-09]],\n",
       "  [['N3',\n",
       "    [[5.411108656628424, 1],\n",
       "     [-7.9902423127876565, 0.00876826440991753],\n",
       "     [-9.999404838452232, 7.4378803064963155e-06]],\n",
       "    0.9952316323029436,\n",
       "    2.2628910542084044e-05]]]]"
      ]
     },
     "execution_count": 22,
     "metadata": {},
     "output_type": "execute_result"
    }
   ],
   "source": [
    "net"
   ]
  },
  {
   "cell_type": "code",
   "execution_count": null,
   "metadata": {},
   "outputs": [],
   "source": []
  }
 ],
 "metadata": {
  "kernelspec": {
   "display_name": "Python 3",
   "language": "python",
   "name": "python3"
  },
  "language_info": {
   "codemirror_mode": {
    "name": "ipython",
    "version": 3
   },
   "file_extension": ".py",
   "mimetype": "text/x-python",
   "name": "python",
   "nbconvert_exporter": "python",
   "pygments_lexer": "ipython3",
   "version": "3.8.5"
  }
 },
 "nbformat": 4,
 "nbformat_minor": 4
}
